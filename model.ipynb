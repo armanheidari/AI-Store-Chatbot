{
 "cells": [
  {
   "cell_type": "code",
   "execution_count": 145,
   "metadata": {},
   "outputs": [],
   "source": [
    "import tensorflow as tf\n",
    "from tensorflow import keras\n",
    "from keras.models import Sequential\n",
    "from keras.layers import Dense, LSTM, Dropout, Conv1D, MaxPooling1D, BatchNormalization, Flatten, Bidirectional, GRU "
   ]
  },
  {
   "cell_type": "code",
   "execution_count": 146,
   "metadata": {},
   "outputs": [],
   "source": [
    "import numpy as np\n",
    "import pandas as pd\n",
    "import matplotlib.pyplot as plt\n",
    "from sklearn.model_selection import train_test_split\n",
    "from sklearn.preprocessing import LabelEncoder\n",
    "from sklearn.metrics import confusion_matrix\n",
    "import seaborn as sns\n",
    "import re\n",
    "import json\n",
    "from hazm import *"
   ]
  },
  {
   "cell_type": "code",
   "execution_count": 147,
   "metadata": {},
   "outputs": [],
   "source": [
    "with open(r\"C:\\Users\\Win 10\\Desktop\\ArmanP.rar-20240203T141349Z-001\\technical_dataset.json\", encoding=\"utf-8-sig\", errors=\"ignore\") as file:\n",
    "    json_file = json.load(file)"
   ]
  },
  {
   "cell_type": "code",
   "execution_count": 148,
   "metadata": {},
   "outputs": [
    {
     "data": {
      "text/html": [
       "<div>\n",
       "<style scoped>\n",
       "    .dataframe tbody tr th:only-of-type {\n",
       "        vertical-align: middle;\n",
       "    }\n",
       "\n",
       "    .dataframe tbody tr th {\n",
       "        vertical-align: top;\n",
       "    }\n",
       "\n",
       "    .dataframe thead th {\n",
       "        text-align: right;\n",
       "    }\n",
       "</style>\n",
       "<table border=\"1\" class=\"dataframe\">\n",
       "  <thead>\n",
       "    <tr style=\"text-align: right;\">\n",
       "      <th></th>\n",
       "      <th>comment</th>\n",
       "      <th>label</th>\n",
       "    </tr>\n",
       "  </thead>\n",
       "  <tbody>\n",
       "    <tr>\n",
       "      <th>0</th>\n",
       "      <td>سفارش داشتم</td>\n",
       "      <td>buying</td>\n",
       "    </tr>\n",
       "    <tr>\n",
       "      <th>1</th>\n",
       "      <td>سفارش دارم</td>\n",
       "      <td>buying</td>\n",
       "    </tr>\n",
       "    <tr>\n",
       "      <th>2</th>\n",
       "      <td>سفارشم رو بگیر</td>\n",
       "      <td>buying</td>\n",
       "    </tr>\n",
       "    <tr>\n",
       "      <th>3</th>\n",
       "      <td>سفارش من رو ثبت کن</td>\n",
       "      <td>buying</td>\n",
       "    </tr>\n",
       "    <tr>\n",
       "      <th>4</th>\n",
       "      <td>ثبت سفارش کن</td>\n",
       "      <td>buying</td>\n",
       "    </tr>\n",
       "  </tbody>\n",
       "</table>\n",
       "</div>"
      ],
      "text/plain": [
       "              comment   label\n",
       "0         سفارش داشتم  buying\n",
       "1          سفارش دارم  buying\n",
       "2      سفارشم رو بگیر  buying\n",
       "3  سفارش من رو ثبت کن  buying\n",
       "4        ثبت سفارش کن  buying"
      ]
     },
     "execution_count": 148,
     "metadata": {},
     "output_type": "execute_result"
    }
   ],
   "source": [
    "train_df = pd.DataFrame(json_file)\n",
    "train_df.head()"
   ]
  },
  {
   "cell_type": "code",
   "execution_count": 149,
   "metadata": {},
   "outputs": [],
   "source": [
    "def working_with_dataset(dataframe):\n",
    "    unique_labels = sorted(train_df[\"label\"].unique())\n",
    "    numberOfClasses = len(train_df.label.unique())\n",
    "    label = train_df[\"label\"]\n",
    "\n",
    "    # encode the string labels (e.g. \"persian\") to integer label (e.g. 1, 2, 3, 4, 5)\n",
    "    encoder = LabelEncoder()\n",
    "    encodedLabel = encoder.fit_transform(label)\n",
    "    # convert integer label to one hot coding (e.g. [0, 1, 0, 0, 0] as 2)\n",
    "    encodedLabel = tf.keras.utils.to_categorical(encodedLabel, num_classes=numberOfClasses)\n",
    "    return encodedLabel, encoder, unique_labels, numberOfClasses"
   ]
  },
  {
   "cell_type": "code",
   "execution_count": 150,
   "metadata": {},
   "outputs": [],
   "source": [
    "encodedLabel, encoder, unique_labels, numberOfClasses = working_with_dataset(train_df)"
   ]
  },
  {
   "cell_type": "code",
   "execution_count": 151,
   "metadata": {},
   "outputs": [],
   "source": [
    "# train_df[\"label\"] = train_df[\"sentiment\"]"
   ]
  },
  {
   "cell_type": "code",
   "execution_count": 197,
   "metadata": {},
   "outputs": [],
   "source": [
    "label = train_df[\"label\"]"
   ]
  },
  {
   "cell_type": "code",
   "execution_count": 199,
   "metadata": {},
   "outputs": [
    {
     "data": {
      "text/plain": [
       "array(['buying', 'order_tracking', 'customer_service', 'refund',\n",
       "       'cancelling', 'edit_order'], dtype=object)"
      ]
     },
     "execution_count": 199,
     "metadata": {},
     "output_type": "execute_result"
    }
   ],
   "source": [
    "train_df[\"label\"].unique()"
   ]
  },
  {
   "cell_type": "code",
   "execution_count": 153,
   "metadata": {},
   "outputs": [
    {
     "data": {
      "text/plain": [
       "array(['buying', 'order_tracking', 'customer_service', 'refund',\n",
       "       'cancelling', 'edit_order'], dtype=object)"
      ]
     },
     "execution_count": 153,
     "metadata": {},
     "output_type": "execute_result"
    }
   ],
   "source": [
    "train_df[\"label\"].unique()"
   ]
  },
  {
   "cell_type": "code",
   "execution_count": 154,
   "metadata": {},
   "outputs": [
    {
     "data": {
      "text/plain": [
       "label\n",
       "edit_order          75\n",
       "cancelling          74\n",
       "buying              64\n",
       "refund              62\n",
       "order_tracking      60\n",
       "customer_service    50\n",
       "Name: count, dtype: int64"
      ]
     },
     "execution_count": 154,
     "metadata": {},
     "output_type": "execute_result"
    }
   ],
   "source": [
    "# return the number of each unique labels of train_df dataset\n",
    "train_df.label.value_counts()"
   ]
  },
  {
   "cell_type": "code",
   "execution_count": 155,
   "metadata": {},
   "outputs": [],
   "source": [
    "def hist_plot(value, name):\n",
    "    plt.subplots(1, 2, figsize=(12, 5))\n",
    "    plt.suptitle(name)\n",
    "    bins = [i for i in range(0, 30, 1)]\n",
    "    plt.subplot(1, 2, 1)\n",
    "    sns.histplot(value, bins=bins)\n",
    "    plt.subplot(1, 2, 2)\n",
    "    sns.distplot(value, bins=bins)\n",
    "    plt.show()"
   ]
  },
  {
   "cell_type": "code",
   "execution_count": 156,
   "metadata": {},
   "outputs": [
    {
     "name": "stderr",
     "output_type": "stream",
     "text": [
      "C:\\Users\\Win 10\\AppData\\Local\\Temp\\ipykernel_18948\\311696606.py:8: UserWarning: \n",
      "\n",
      "`distplot` is a deprecated function and will be removed in seaborn v0.14.0.\n",
      "\n",
      "Please adapt your code to use either `displot` (a figure-level function with\n",
      "similar flexibility) or `histplot` (an axes-level function for histograms).\n",
      "\n",
      "For a guide to updating your code to use the new functions, please see\n",
      "https://gist.github.com/mwaskom/de44147ed2974457ad6372750bbe5751\n",
      "\n",
      "  sns.distplot(value, bins=bins)\n"
     ]
    },
    {
     "data": {
      "image/png": "[encoded data removed]",
      "text/plain": [
       "<Figure size 1200x500 with 2 Axes>"
      ]
     },
     "metadata": {},
     "output_type": "display_data"
    }
   ],
   "source": [
    "lengths = [len(text.split()) for text in train_df.comment.values]\n",
    "sizes = [len(text) for text in train_df.comment.values]\n",
    "hist_plot(lengths, 'Sentence length distribution (by words)')"
   ]
  },
  {
   "cell_type": "code",
   "execution_count": 157,
   "metadata": {},
   "outputs": [],
   "source": [
    "class Preproccessing:\n",
    "    def __init__(self):\n",
    "        self.normalizer_formal = Normalizer(\n",
    "            correct_spacing=True,\n",
    "            remove_diacritics=True,\n",
    "            remove_specials_chars=True,\n",
    "            decrease_repeated_chars=True,\n",
    "            seperate_mi=True\n",
    "        )\n",
    "        self.normalizer_informal = InformalNormalizer()\n",
    "        self.lemmatizer = Lemmatizer()\n",
    "\n",
    "    def train(self, text, string=True):\n",
    "        strs = \"\"\n",
    "        try:\n",
    "            text = self.normalizer_formal.normalize(text)\n",
    "            text = self.normalizer_informal.normalize(text)[0]\n",
    "        except:\n",
    "            pass\n",
    "        for i in range(len(text)):\n",
    "            if len(text[i]) != 1:\n",
    "                text[i] = [text[i][0]]\n",
    "            # text[i] = self.lemmatizer.lemmatize(text[i][0]).split(\"#\")[0]\n",
    "            strs += (text[i][0] + \" \")\n",
    "        if string:\n",
    "            return re.sub(r'[^\\w\\s]', ' ', self.normalizer_formal.normalize(strs))\n",
    "            return self.normalizer_formal.normalize(strs)\n",
    "        return text"
   ]
  },
  {
   "cell_type": "code",
   "execution_count": 158,
   "metadata": {},
   "outputs": [],
   "source": [
    "preProcess = Preproccessing()"
   ]
  },
  {
   "cell_type": "code",
   "execution_count": 159,
   "metadata": {},
   "outputs": [],
   "source": [
    "label = train_df['label']\n",
    "train_df['sentence'] = train_df['comment'].apply(preProcess.train)"
   ]
  },
  {
   "cell_type": "code",
   "execution_count": 160,
   "metadata": {},
   "outputs": [
    {
     "data": {
      "text/html": [
       "<div>\n",
       "<style scoped>\n",
       "    .dataframe tbody tr th:only-of-type {\n",
       "        vertical-align: middle;\n",
       "    }\n",
       "\n",
       "    .dataframe tbody tr th {\n",
       "        vertical-align: top;\n",
       "    }\n",
       "\n",
       "    .dataframe thead th {\n",
       "        text-align: right;\n",
       "    }\n",
       "</style>\n",
       "<table border=\"1\" class=\"dataframe\">\n",
       "  <thead>\n",
       "    <tr style=\"text-align: right;\">\n",
       "      <th></th>\n",
       "      <th>comment</th>\n",
       "      <th>label</th>\n",
       "      <th>sentence</th>\n",
       "    </tr>\n",
       "  </thead>\n",
       "  <tbody>\n",
       "    <tr>\n",
       "      <th>0</th>\n",
       "      <td>سفارش داشتم</td>\n",
       "      <td>buying</td>\n",
       "      <td>سفارش داشتم</td>\n",
       "    </tr>\n",
       "    <tr>\n",
       "      <th>1</th>\n",
       "      <td>سفارش دارم</td>\n",
       "      <td>buying</td>\n",
       "      <td>سفارش دارم</td>\n",
       "    </tr>\n",
       "    <tr>\n",
       "      <th>2</th>\n",
       "      <td>سفارشم رو بگیر</td>\n",
       "      <td>buying</td>\n",
       "      <td>سفارشم را بگیر</td>\n",
       "    </tr>\n",
       "    <tr>\n",
       "      <th>3</th>\n",
       "      <td>سفارش من رو ثبت کن</td>\n",
       "      <td>buying</td>\n",
       "      <td>سفارش من را ثبت کن</td>\n",
       "    </tr>\n",
       "    <tr>\n",
       "      <th>4</th>\n",
       "      <td>ثبت سفارش کن</td>\n",
       "      <td>buying</td>\n",
       "      <td>ثبت سفارش کن</td>\n",
       "    </tr>\n",
       "    <tr>\n",
       "      <th>...</th>\n",
       "      <td>...</td>\n",
       "      <td>...</td>\n",
       "      <td>...</td>\n",
       "    </tr>\n",
       "    <tr>\n",
       "      <th>380</th>\n",
       "      <td>باید سفارشمو تغییر بدهم</td>\n",
       "      <td>edit_order</td>\n",
       "      <td>باید سفارشم را تغییر بدهم</td>\n",
       "    </tr>\n",
       "    <tr>\n",
       "      <th>381</th>\n",
       "      <td>نظرم عوض شد و میخواهم سفارشم را تغییر بدهم</td>\n",
       "      <td>edit_order</td>\n",
       "      <td>نظرم عوض شد و می خواهم سفارشم را تغییر بدهم</td>\n",
       "    </tr>\n",
       "    <tr>\n",
       "      <th>382</th>\n",
       "      <td>چگونه میتونم سفارشم را تغییر بدهم؟</td>\n",
       "      <td>edit_order</td>\n",
       "      <td>چگونه می توانم سفارشم را تغییر بدهم</td>\n",
       "    </tr>\n",
       "    <tr>\n",
       "      <th>383</th>\n",
       "      <td>چگونه میتونم سفارشم را دچار تغییر کنم؟</td>\n",
       "      <td>edit_order</td>\n",
       "      <td>چگونه می توانم سفارشم را دچار تغییر کنم</td>\n",
       "    </tr>\n",
       "    <tr>\n",
       "      <th>384</th>\n",
       "      <td>تغییراتی برای اعمال داشتم</td>\n",
       "      <td>edit_order</td>\n",
       "      <td>تغییراتی برای اعمال داشتم</td>\n",
       "    </tr>\n",
       "  </tbody>\n",
       "</table>\n",
       "<p>385 rows × 3 columns</p>\n",
       "</div>"
      ],
      "text/plain": [
       "                                        comment       label  \\\n",
       "0                                   سفارش داشتم      buying   \n",
       "1                                    سفارش دارم      buying   \n",
       "2                                سفارشم رو بگیر      buying   \n",
       "3                            سفارش من رو ثبت کن      buying   \n",
       "4                                  ثبت سفارش کن      buying   \n",
       "..                                          ...         ...   \n",
       "380                     باید سفارشمو تغییر بدهم  edit_order   \n",
       "381  نظرم عوض شد و میخواهم سفارشم را تغییر بدهم  edit_order   \n",
       "382          چگونه میتونم سفارشم را تغییر بدهم؟  edit_order   \n",
       "383      چگونه میتونم سفارشم را دچار تغییر کنم؟  edit_order   \n",
       "384                   تغییراتی برای اعمال داشتم  edit_order   \n",
       "\n",
       "                                        sentence  \n",
       "0                                    سفارش داشتم  \n",
       "1                                     سفارش دارم  \n",
       "2                                 سفارشم را بگیر  \n",
       "3                             سفارش من را ثبت کن  \n",
       "4                                   ثبت سفارش کن  \n",
       "..                                           ...  \n",
       "380                    باید سفارشم را تغییر بدهم  \n",
       "381  نظرم عوض شد و می خواهم سفارشم را تغییر بدهم  \n",
       "382         چگونه می توانم سفارشم را تغییر بدهم   \n",
       "383     چگونه می توانم سفارشم را دچار تغییر کنم   \n",
       "384                    تغییراتی برای اعمال داشتم  \n",
       "\n",
       "[385 rows x 3 columns]"
      ]
     },
     "execution_count": 160,
     "metadata": {},
     "output_type": "execute_result"
    }
   ],
   "source": [
    "train_df"
   ]
  },
  {
   "cell_type": "code",
   "execution_count": 161,
   "metadata": {},
   "outputs": [],
   "source": [
    "max_features = 5000\n",
    "maxlen = 30"
   ]
  },
  {
   "cell_type": "code",
   "execution_count": 162,
   "metadata": {},
   "outputs": [],
   "source": [
    "# tokenize the dataset, it means assign an integer value to the each unique words\n",
    "# and if the number of occurances of a certain word is more than num_words, ignore tham\n",
    "tok = tf.keras.preprocessing.text.Tokenizer(num_words=max_features)\n",
    "tok.fit_on_texts(list(train_df[\"sentence\"]))"
   ]
  },
  {
   "cell_type": "code",
   "execution_count": 163,
   "metadata": {},
   "outputs": [
    {
     "name": "stdout",
     "output_type": "stream",
     "text": [
      "538\n"
     ]
    }
   ],
   "source": [
    "# print number of unique word in our dataset\n",
    "print(len(tok.word_index))\n",
    "vocab_szie = len(tok.word_index) + 1"
   ]
  },
  {
   "cell_type": "code",
   "execution_count": 164,
   "metadata": {},
   "outputs": [],
   "source": [
    "# change the words with its index value that comes from tokenizing\n",
    "train_set = tok.texts_to_sequences(list(train_df[\"sentence\"]))\n",
    "\n",
    "# make the length of each tokenized vector fixed (maxlen)\n",
    "train_set = tf.keras.preprocessing.sequence.pad_sequences(train_set, maxlen=maxlen)\n",
    "x_train, x_test, y_train, y_test = train_test_split(train_set, encodedLabel, test_size=0.1, random_state=12, stratify=encodedLabel)"
   ]
  },
  {
   "cell_type": "code",
   "execution_count": 165,
   "metadata": {},
   "outputs": [],
   "source": [
    "# x_train, x_test_val, y_train, y_test_val = train_test_split(train_set, label, test_size=0.3, random_state=10)\n",
    "# x_test, x_val, y_test, y_val = train_test_split(x_test_val, y_test_val, test_size = 0.15, random_state=10)\n",
    "# embedding_dim = 32"
   ]
  },
  {
   "cell_type": "code",
   "execution_count": 166,
   "metadata": {},
   "outputs": [],
   "source": [
    "embedding_dim = 32"
   ]
  },
  {
   "cell_type": "code",
   "execution_count": 167,
   "metadata": {},
   "outputs": [],
   "source": [
    "model = Sequential()\n",
    "model.add(\n",
    "    tf.keras.layers.Embedding(\n",
    "        max_features,\n",
    "        embedding_dim,\n",
    "        input_length = maxlen\n",
    "    )\n",
    ")\n",
    "model.add(Bidirectional(LSTM(20, activity_regularizer=tf.keras.regularizers.L2(0.1))))\n",
    "# model.add(Bidirectional(LSTM(20, activity_regularizer=tf.keras.regularizers.L2(0.1))))\n",
    "# model.add(Bidirectional(LSTM(20, activity_regularizer=tf.keras.regularizers.L2(0.1))))\n",
    "model.add(Dropout(0.2))\n",
    "model.add(Dense(numberOfClasses, activation='softmax'))"
   ]
  },
  {
   "cell_type": "code",
   "execution_count": 168,
   "metadata": {},
   "outputs": [
    {
     "name": "stdout",
     "output_type": "stream",
     "text": [
      "Model: \"sequential_10\"\n",
      "_________________________________________________________________\n",
      " Layer (type)                Output Shape              Param #   \n",
      "=================================================================\n",
      " embedding_10 (Embedding)    (None, 30, 32)            160000    \n",
      "                                                                 \n",
      " bidirectional_11 (Bidirect  (None, 40)                8480      \n",
      " ional)                                                          \n",
      "                                                                 \n",
      " dropout_10 (Dropout)        (None, 40)                0         \n",
      "                                                                 \n",
      " dense_10 (Dense)            (None, 6)                 246       \n",
      "                                                                 \n",
      "=================================================================\n",
      "Total params: 168726 (659.09 KB)\n",
      "Trainable params: 168726 (659.09 KB)\n",
      "Non-trainable params: 0 (0.00 Byte)\n",
      "_________________________________________________________________\n"
     ]
    }
   ],
   "source": [
    "model.compile(\n",
    "    optimizer = \"adam\",\n",
    "    loss=\"binary_crossentropy\",\n",
    "    metrics = \"accuracy\"\n",
    ")\n",
    "\n",
    "model.summary()"
   ]
  },
  {
   "cell_type": "code",
   "execution_count": 183,
   "metadata": {},
   "outputs": [
    {
     "name": "stdout",
     "output_type": "stream",
     "text": [
      "Epoch 1/5\n",
      "11/11 [==============================] - 0s 16ms/step - loss: 0.3228 - accuracy: 0.9971 - val_loss: 0.3378 - val_accuracy: 0.9744\n",
      "Epoch 2/5\n",
      "11/11 [==============================] - 0s 12ms/step - loss: 0.3177 - accuracy: 1.0000 - val_loss: 0.3336 - val_accuracy: 0.9744\n",
      "Epoch 3/5\n",
      "11/11 [==============================] - 0s 12ms/step - loss: 0.3077 - accuracy: 1.0000 - val_loss: 0.3297 - val_accuracy: 0.9744\n",
      "Epoch 4/5\n",
      "11/11 [==============================] - 0s 13ms/step - loss: 0.3074 - accuracy: 1.0000 - val_loss: 0.3278 - val_accuracy: 0.9744\n",
      "Epoch 5/5\n",
      "11/11 [==============================] - 0s 11ms/step - loss: 0.3039 - accuracy: 1.0000 - val_loss: 0.3242 - val_accuracy: 0.9744\n"
     ]
    }
   ],
   "source": [
    "result = model.fit(\n",
    "    x_train,\n",
    "    y_train,\n",
    "    validation_data = (x_test, y_test),\n",
    "    epochs = 5,\n",
    "    batch_size = 32\n",
    "    )"
   ]
  },
  {
   "cell_type": "code",
   "execution_count": 184,
   "metadata": {},
   "outputs": [
    {
     "name": "stdout",
     "output_type": "stream",
     "text": [
      "2/2 [==============================] - 0s 0s/step\n",
      "Accuracy: 97.44%\n"
     ]
    }
   ],
   "source": [
    "scores = model.evaluate(x_test, y_test, verbose=0)\n",
    "y_pred = model.predict(x_test)\n",
    "print(\"Accuracy: {}%\".format(round(scores[1]*100, 2)))"
   ]
  },
  {
   "cell_type": "code",
   "execution_count": 185,
   "metadata": {},
   "outputs": [
    {
     "data": {
      "image/png": "[encoded data removed]",
      "text/plain": [
       "<Figure size 1200x800 with 2 Axes>"
      ]
     },
     "metadata": {},
     "output_type": "display_data"
    }
   ],
   "source": [
    "cf = confusion_matrix(y_test.argmax(axis=1), y_pred.argmax(axis=1))\n",
    "label_name = unique_labels\n",
    "plt.figure(figsize=(12, 8))\n",
    "sns.heatmap(cf,\n",
    "            annot=True,\n",
    "            fmt=\"d\",\n",
    "            xticklabels=label_name,\n",
    "            yticklabels=label_name,\n",
    "            cmap=\"gnuplot\",\n",
    "            linewidths=3,\n",
    "            linecolor='navy'\n",
    "            )\n",
    "plt.title(\"Confusion Matrix\", fontsize=20, color=\"black\")\n",
    "plt.xlabel(\"Predicted\", fontsize=12)\n",
    "plt.ylabel(\"Actual\", fontsize=12)\n",
    "plt.show()"
   ]
  },
  {
   "cell_type": "code",
   "execution_count": 186,
   "metadata": {},
   "outputs": [],
   "source": [
    "def check_false(y_pred, y_test):\n",
    "    list = []\n",
    "    for i in range(len(y_pred.argmax(axis=1))):\n",
    "        if y_pred.argmax(axis=1)[i] != y_test.argmax(axis=1)[i]:\n",
    "           list.append((tok.sequences_to_texts([x_test[i]]), y_test.argmax(axis=1)[i], y_pred.argmax(axis=1)[i]))\n",
    "    return list"
   ]
  },
  {
   "cell_type": "code",
   "execution_count": 187,
   "metadata": {},
   "outputs": [
    {
     "data": {
      "text/plain": [
       "[(['چه زمانی شماره پیگیری خود را دریافت خواهم کرد'], 4, 5)]"
      ]
     },
     "execution_count": 187,
     "metadata": {},
     "output_type": "execute_result"
    }
   ],
   "source": [
    "check_false(y_pred, y_test)"
   ]
  },
  {
   "cell_type": "code",
   "execution_count": 174,
   "metadata": {},
   "outputs": [],
   "source": [
    "def classify(text):\n",
    "    text = preProcess.train(text)\n",
    "    tokenized = tok.texts_to_sequences([text])\n",
    "    tokenized = tf.keras.preprocessing.sequence.pad_sequences(tokenized, maxlen)\n",
    "    prediction = model.predict(tokenized)\n",
    "    print(prediction)\n",
    "    label = prediction.argmax()\n",
    "    prediction = encoder.inverse_transform([label])\n",
    "    return prediction"
   ]
  },
  {
   "cell_type": "code",
   "execution_count": 201,
   "metadata": {},
   "outputs": [
    {
     "name": "stdout",
     "output_type": "stream",
     "text": [
      "1/1 [==============================] - 0s 23ms/step\n",
      "[[0.07891347 0.06407762 0.07210085 0.66386545 0.06108305 0.05995955]]\n"
     ]
    },
    {
     "data": {
      "text/plain": [
       "array(['edit_order'], dtype=object)"
      ]
     },
     "execution_count": 201,
     "metadata": {},
     "output_type": "execute_result"
    }
   ],
   "source": [
    "classify(\"میخواهم سفارشم را تغییر دهم\")"
   ]
  },
  {
   "cell_type": "code",
   "execution_count": 194,
   "metadata": {},
   "outputs": [
    {
     "name": "stderr",
     "output_type": "stream",
     "text": [
      "c:\\Users\\Win 10\\AppData\\Local\\Programs\\Python\\Python311\\Lib\\site-packages\\keras\\src\\engine\\training.py:3103: UserWarning: You are saving your model as an HDF5 file via `model.save()`. This file format is considered legacy. We recommend using instead the native Keras format, e.g. `model.save('my_model.keras')`.\n",
      "  saving_api.save_model(\n"
     ]
    },
    {
     "name": "stdout",
     "output_type": "stream",
     "text": [
      "Model Saved!\n"
     ]
    }
   ],
   "source": [
    "model.save(r\"C:\\Users\\Win 10\\Desktop\\ArmanP.rar-20240203T141349Z-001\\chatbot-deployment-main\\technical_model\", save_format=\"h5\")\n",
    "print('Model Saved!')"
   ]
  },
  {
   "cell_type": "code",
   "execution_count": 195,
   "metadata": {},
   "outputs": [],
   "source": [
    "import pickle\n",
    "\n",
    "# saving\n",
    "with open(r\"C:\\Users\\Win 10\\Desktop\\ArmanP.rar-20240203T141349Z-001\\chatbot-deployment-main\\technical_tokenizer.pickle\", 'wb') as handle:\n",
    "    pickle.dump(tok, handle, protocol=pickle.HIGHEST_PROTOCOL)"
   ]
  }
 ],
 "metadata": {
  "kernelspec": {
   "display_name": "Python 3",
   "language": "python",
   "name": "python3"
  },
  "language_info": {
   "codemirror_mode": {
    "name": "ipython",
    "version": 3
   },
   "file_extension": ".py",
   "mimetype": "text/x-python",
   "name": "python",
   "nbconvert_exporter": "python",
   "pygments_lexer": "ipython3",
   "version": "3.11.4"
  }
 },
 "nbformat": 4,
 "nbformat_minor": 2
}
